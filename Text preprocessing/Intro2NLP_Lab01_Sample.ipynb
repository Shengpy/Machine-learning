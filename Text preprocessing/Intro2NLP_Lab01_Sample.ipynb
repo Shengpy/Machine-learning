{
 "cells": [
  {
   "cell_type": "markdown",
   "metadata": {
    "id": "syqO4AKqgqsY"
   },
   "source": [
    "# Phần Lý thuyết\n",
    "\n",
    "Các bạn được yêu cầu trả lời từng câu hỏi dưới dạng từng block text."
   ]
  },
  {
   "cell_type": "markdown",
   "metadata": {
    "id": "ykt75LhNg1sJ"
   },
   "source": [
    "## Câu 1:\n",
    "Define the term ``stopwords`` and provide examples in English.\n"
   ]
  },
  {
   "cell_type": "markdown",
   "metadata": {},
   "source": [
    "`stopwords` is a set of commonly used words which carry very little useful information.\n",
    "\n",
    "**For instance:** In English, there are several words that carry little useful information such as `a`, `an`, `the`, etc"
   ]
  },
  {
   "cell_type": "markdown",
   "metadata": {
    "id": "q7NjpMVMg6Nz"
   },
   "source": [
    "## Câu 2:\n",
    "Explain the significance of Term Frequency (TF) and Inverse Document Frequency (IDF) in text analysis. Why is it essential to use both TF and IDF together?"
   ]
  },
  {
   "cell_type": "markdown",
   "metadata": {
    "id": "in-6a7qyg_i1"
   },
   "source": [
    "## Câu 3\n",
    "Evaluate the advantages and disadvantages of using TF-IDF in text processing."
   ]
  },
  {
   "cell_type": "markdown",
   "metadata": {
    "id": "wEPDcNrDhD36"
   },
   "source": [
    "## Câu 4\n",
    "In the scikit-learn library, investigate how IDF is implemented. Compare it to the standard IDF formula and explain any differences if present."
   ]
  },
  {
   "cell_type": "markdown",
   "metadata": {
    "id": "g2McJI5Rdv2b"
   },
   "source": [
    "# Phần Thực hành"
   ]
  },
  {
   "cell_type": "markdown",
   "metadata": {
    "id": "E1qty7zHhL4G"
   },
   "source": [
    "## Thư viện cần thiết"
   ]
  },
  {
   "cell_type": "code",
   "execution_count": 1,
   "metadata": {
    "id": "GR2YJGXVdlLW"
   },
   "outputs": [],
   "source": [
    "# import\n",
    "import re\n",
    "import matplotlib.pyplot as plt\n",
    "import seaborn as sns\n",
    "import numpy as np\n",
    "import pandas as pd\n",
    "%matplotlib inline"
   ]
  },
  {
   "cell_type": "markdown",
   "metadata": {
    "id": "8qO9roCsd2dO"
   },
   "source": [
    "## Câu 1:\n",
    "Write a program to download the IMDb movie review dataset."
   ]
  },
  {
   "cell_type": "code",
   "execution_count": 2,
   "metadata": {
    "id": "r_E98_qLd1rg"
   },
   "outputs": [
    {
     "data": {
      "text/html": [
       "<div>\n",
       "<style scoped>\n",
       "    .dataframe tbody tr th:only-of-type {\n",
       "        vertical-align: middle;\n",
       "    }\n",
       "\n",
       "    .dataframe tbody tr th {\n",
       "        vertical-align: top;\n",
       "    }\n",
       "\n",
       "    .dataframe thead th {\n",
       "        text-align: right;\n",
       "    }\n",
       "</style>\n",
       "<table border=\"1\" class=\"dataframe\">\n",
       "  <thead>\n",
       "    <tr style=\"text-align: right;\">\n",
       "      <th></th>\n",
       "      <th>review</th>\n",
       "      <th>sentiment</th>\n",
       "    </tr>\n",
       "  </thead>\n",
       "  <tbody>\n",
       "    <tr>\n",
       "      <th>0</th>\n",
       "      <td>One of the other reviewers has mentioned that ...</td>\n",
       "      <td>positive</td>\n",
       "    </tr>\n",
       "    <tr>\n",
       "      <th>1</th>\n",
       "      <td>A wonderful little production. &lt;br /&gt;&lt;br /&gt;The...</td>\n",
       "      <td>positive</td>\n",
       "    </tr>\n",
       "    <tr>\n",
       "      <th>2</th>\n",
       "      <td>I thought this was a wonderful way to spend ti...</td>\n",
       "      <td>positive</td>\n",
       "    </tr>\n",
       "    <tr>\n",
       "      <th>3</th>\n",
       "      <td>Basically there's a family where a little boy ...</td>\n",
       "      <td>negative</td>\n",
       "    </tr>\n",
       "    <tr>\n",
       "      <th>4</th>\n",
       "      <td>Petter Mattei's \"Love in the Time of Money\" is...</td>\n",
       "      <td>positive</td>\n",
       "    </tr>\n",
       "  </tbody>\n",
       "</table>\n",
       "</div>"
      ],
      "text/plain": [
       "                                              review sentiment\n",
       "0  One of the other reviewers has mentioned that ...  positive\n",
       "1  A wonderful little production. <br /><br />The...  positive\n",
       "2  I thought this was a wonderful way to spend ti...  positive\n",
       "3  Basically there's a family where a little boy ...  negative\n",
       "4  Petter Mattei's \"Love in the Time of Money\" is...  positive"
      ]
     },
     "execution_count": 2,
     "metadata": {},
     "output_type": "execute_result"
    }
   ],
   "source": [
    "df = pd.read_csv('IMDB Dataset.csv')\n",
    "df.head()"
   ]
  },
  {
   "cell_type": "markdown",
   "metadata": {
    "id": "Y9B-fSmId9z9"
   },
   "source": [
    "## Câu 2\n",
    "Write a program to calculate the number of data samples, the maximum, minimum, and average length of reviews, and create a chart showing the ratio of positive and negative classes in the dataset.\n",
    "\n",
    "*Lưu ý: Các thông số trình bày ở dạng bảng và biểu đồ phải được phát sinh bằng mã nguồn tương ứng*"
   ]
  },
  {
   "cell_type": "code",
   "execution_count": 3,
   "metadata": {
    "id": "dK6h9_E7eVrA"
   },
   "outputs": [
    {
     "name": "stdout",
     "output_type": "stream",
     "text": [
      "['One', 'of', 'the', 'other', 'reviewers', 'has', 'mentioned', 'that', 'after', 'watching', 'just', '1', 'Oz', 'episode', 'you', 'll', 'be', 'hooked', 'They', 'are', 'right', 'as', 'this', 'is', 'exactly', 'what', 'happened', 'with', 'me', 'The', 'first', 'thing', 'that', 'struck', 'me', 'about', 'Oz', 'was', 'its', 'brutality', 'and', 'unflinching', 'scenes', 'of', 'violence', 'which', 'set', 'in', 'right', 'from', 'the', 'word', 'GO', 'Trust', 'me', 'this', 'is', 'not', 'a', 'show', 'for', 'the', 'faint', 'hearted', 'or', 'timid', 'This', 'show', 'pulls', 'no', 'punches', 'with', 'regards', 'to', 'drugs', 'sex', 'or', 'violence', 'Its', 'is', 'hardcore', 'in', 'the', 'classic', 'use', 'of', 'the', 'word', 'It', 'is', 'called', 'OZ', 'as', 'that', 'is', 'the', 'nickname', 'given', 'to', 'the', 'Oswald', 'Maximum', 'Security', 'State', 'Penitentary', 'It', 'focuses', 'mainly', 'on', 'Emerald', 'City', 'an', 'experimental', 'section', 'of', 'the', 'prison', 'where', 'all', 'the', 'cells', 'have', 'glass', 'fronts', 'and', 'face', 'inwards', 'so', 'privacy', 'is', 'not', 'high', 'on', 'the', 'agenda', 'Em', 'City', 'is', 'home', 'to', 'many', 'Aryans', 'Muslims', 'gangstas', 'Latinos', 'Christians', 'Italians', 'Irish', 'and', 'more', 'so', 'scuffles', 'death', 'stares', 'dodgy', 'dealings', 'and', 'shady', 'agreements', 'are', 'never', 'far', 'away', 'I', 'would', 'say', 'the', 'main', 'appeal', 'of', 'the', 'show', 'is', 'due', 'to', 'the', 'fact', 'that', 'it', 'goes', 'where', 'other', 'shows', 'wouldn', 't', 'dare', 'Forget', 'pretty', 'pictures', 'painted', 'for', 'mainstream', 'audiences', 'forget', 'charm', 'forget', 'romance', 'OZ', 'doesn', 't', 'mess', 'around', 'The', 'first', 'episode', 'I', 'ever', 'saw', 'struck', 'me', 'as', 'so', 'nasty', 'it', 'was', 'surreal', 'I', 'couldn', 't', 'say', 'I', 'was', 'ready', 'for', 'it', 'but', 'as', 'I', 'watched', 'more', 'I', 'developed', 'a', 'taste', 'for', 'Oz', 'and', 'got', 'accustomed', 'to', 'the', 'high', 'levels', 'of', 'graphic', 'violence', 'Not', 'just', 'violence', 'but', 'injustice', 'crooked', 'guards', 'who', 'll', 'be', 'sold', 'out', 'for', 'a', 'nickel', 'inmates', 'who', 'll', 'kill', 'on', 'order', 'and', 'get', 'away', 'with', 'it', 'well', 'mannered', 'middle', 'class', 'inmates', 'being', 'turned', 'into', 'prison', 'bitches', 'due', 'to', 'their', 'lack', 'of', 'street', 'skills', 'or', 'prison', 'experience', 'Watching', 'Oz', 'you', 'may', 'become', 'comfortable', 'with', 'what', 'is', 'uncomfortable', 'viewing', 'thats', 'if', 'you', 'can', 'get', 'in', 'touch', 'with', 'your', 'darker', 'side']\n"
     ]
    }
   ],
   "source": [
    "regex = r'\\<[^\\>]+\\>'\n",
    "reviews = []\n",
    "tmp = []\n",
    "for review in df['review']:\n",
    "    tmp.append(re.sub(regex, '', review))\n",
    "for review in tmp:\n",
    "    a = re.findall(r'\\w+', review)\n",
    "    reviews.append(a)\n",
    "print(reviews[0])"
   ]
  },
  {
   "cell_type": "markdown",
   "metadata": {
    "id": "PSmQTKTjeWGF"
   },
   "source": [
    "## Câu 3\n",
    "Write a program to tokenize the words in the reviews, lovercase all words, remove special characters and remove the stopwords."
   ]
  },
  {
   "cell_type": "code",
   "execution_count": 26,
   "metadata": {},
   "outputs": [],
   "source": [
    "def show_regex_match(text, regex):\n",
    "    '''\n",
    "    Prints the string with the regex match highlighted.\n",
    "    \n",
    "    This function is modified from this source:\n",
    "    https://www.textbook.ds100.org/ch/12/text_regex.html\n",
    "    '''\n",
    "    result = re.sub(f'({regex})', r'\\033[1;30;43m\\1\\033[m', text)\n",
    "    result = result.replace('\\n', '\\\\n') # Make \\n visible\n",
    "    print(result)"
   ]
  },
  {
   "cell_type": "code",
   "execution_count": 48,
   "metadata": {
    "id": "DeBRBlw_eav-"
   },
   "outputs": [
    {
     "name": "stdout",
     "output_type": "stream",
     "text": [
      "['5' 'How' 'There' 'apple' 'are' 'frigde' 'in' 'many' 'the' 'there']\n",
      "[1 1 1 1 2 1 1 1 1 1]\n"
     ]
    }
   ],
   "source": [
    "text = '''\n",
    "How many apple are there in the frigde.\n",
    "There are 5\n",
    "'''.strip()\n",
    "regex = r'\\w+'\n",
    "matches = re.findall(regex, text)\n",
    "tmp, fre = np.unique(matches, return_counts=True)\n",
    "print(tmp)\n",
    "print(fre)"
   ]
  },
  {
   "cell_type": "code",
   "execution_count": 53,
   "metadata": {},
   "outputs": [],
   "source": [
    "def info_of_reviews(reviews):\n",
    "    res = [[0, 1e8, 0, 0]]\n",
    "    res[0][0] = len(reviews)\n",
    "    s = 0\n",
    "    for review in reviews:\n",
    "        s+=len(review)\n",
    "        if len(review) < res[0][1]:\n",
    "            res[0][1] = len(review)\n",
    "        if len(review) > res[0][2]:\n",
    "            res[0][2] = len(review)\n",
    "    res[0][3] = s // res[0][0]\n",
    "    return res"
   ]
  },
  {
   "cell_type": "code",
   "execution_count": 55,
   "metadata": {},
   "outputs": [
    {
     "name": "stdout",
     "output_type": "stream",
     "text": [
      "[50000, 6, 2498, 235]\n"
     ]
    }
   ],
   "source": [
    "res = info_of_reviews(reviews)\n",
    "print(res[0])"
   ]
  },
  {
   "cell_type": "markdown",
   "metadata": {
    "id": "MNgFfnSpelQb"
   },
   "source": [
    "## Câu 4\n",
    "Write a program to calculate the term frequency (TF) of each word in the reviews."
   ]
  },
  {
   "cell_type": "code",
   "execution_count": null,
   "metadata": {
    "id": "HYQcoNd_ek8l"
   },
   "outputs": [],
   "source": []
  },
  {
   "cell_type": "markdown",
   "metadata": {
    "id": "erpq-oTRgTlt"
   },
   "source": [
    "## Câu 5\n",
    "Write a program to calculate the inverse document frequency (IDF) of words in the reviews, considering each review as a separate document."
   ]
  },
  {
   "cell_type": "code",
   "execution_count": null,
   "metadata": {
    "id": "O-A2dm1JgaXA"
   },
   "outputs": [],
   "source": []
  },
  {
   "cell_type": "markdown",
   "metadata": {
    "id": "c2IsoqpSgalT"
   },
   "source": [
    "## Câu 6\n",
    "Write a function that takes a review sentence as input and returns its TF-IDF representation using the information obtained in the previous steps."
   ]
  },
  {
   "cell_type": "code",
   "execution_count": null,
   "metadata": {
    "id": "UwN3TEgfghgk"
   },
   "outputs": [],
   "source": []
  }
 ],
 "metadata": {
  "colab": {
   "provenance": []
  },
  "kernelspec": {
   "display_name": "Python 3 (ipykernel)",
   "language": "python",
   "name": "python3"
  },
  "language_info": {
   "codemirror_mode": {
    "name": "ipython",
    "version": 3
   },
   "file_extension": ".py",
   "mimetype": "text/x-python",
   "name": "python",
   "nbconvert_exporter": "python",
   "pygments_lexer": "ipython3",
   "version": "3.10.4"
  }
 },
 "nbformat": 4,
 "nbformat_minor": 4
}
